{
 "cells": [
  {
   "cell_type": "code",
   "execution_count": 44,
   "metadata": {},
   "outputs": [],
   "source": [
    "import numpy as np\n",
    "import numpy.ma as ma  \n",
    "import matplotlib.pyplot as plt"
   ]
  },
  {
   "cell_type": "code",
   "execution_count": 31,
   "metadata": {},
   "outputs": [],
   "source": [
    "data=np.array([ 13,21,15,34,23,15,19,32,24,14,13,22,8,30,11,38,33,29,16,44,21,16,17,19,1,22,28,22,14,7,\n",
    "              15,24,26,14,11,25,17,10,19,5,6,16,7,10,1,5,2,8,14,14,15,16,13,11,9,11,19,21],float)"
   ]
  },
  {
   "cell_type": "code",
   "execution_count": 32,
   "metadata": {},
   "outputs": [
    {
     "data": {
      "text/plain": [
       "array(['-', '+', '-', '+', '+', '-', '+', '+', '+', '-', '-', '+', '-',\n",
       "       '+', '-', '+', '+', '+', '+', '+', '+', '+', '+', '+', '-', '+',\n",
       "       '+', '+', '-', '-', '-', '+', '+', '-', '-', '+', '+', '-', '+',\n",
       "       '-', '-', '+', '-', '-', '-', '-', '-', '-', '-', '-', '-', '+',\n",
       "       '-', '-', '-', '-', '+', '+'], dtype='<U1')"
      ]
     },
     "execution_count": 32,
     "metadata": {},
     "output_type": "execute_result"
    }
   ],
   "source": [
    "sorted_data = np.sort(data)\n",
    "median = ma.median(sorted_data,axis=0)\n",
    "\n",
    "data_sign = np.array([],str)\n",
    "for i in data:\n",
    "    if i>median:\n",
    "        data_sign = np.append(data_sign,'+')\n",
    "    elif i<median:\n",
    "        data_sign = np.append(data_sign,'-')\n",
    "data_sign"
   ]
  },
  {
   "cell_type": "code",
   "execution_count": 39,
   "metadata": {},
   "outputs": [
    {
     "name": "stdout",
     "output_type": "stream",
     "text": [
      "count=26 max_len=9\n"
     ]
    }
   ],
   "source": [
    "count=1\n",
    "max_len=-1\n",
    "series_len=1\n",
    "for i in range(0,len(data)-1):\n",
    "    if data_sign[i+1]!=data_sign[i]:\n",
    "        count+=1\n",
    "        if series_len>max_len:\n",
    "            max_len=series_len\n",
    "        series_len=1\n",
    "    else:\n",
    "        series_len+=1\n",
    "print('count={} max_len={}'.format(count,max_len))"
   ]
  },
  {
   "cell_type": "code",
   "execution_count": 46,
   "metadata": {},
   "outputs": [
    {
     "name": "stdout",
     "output_type": "stream",
     "text": [
      "число серий в совокупности δi=22.0 , r_max=9.0\n"
     ]
    }
   ],
   "source": [
    "v=0.5*((data.size+1-1.96*((data.size-1)**0.5))//1)\n",
    "r_max=3.3*(np.log10(data.size)+1)//1\n",
    "print('число серий в совокупности δi={} , r_max={}'.format(v,r))"
   ]
  },
  {
   "cell_type": "markdown",
   "metadata": {},
   "source": [
    "Вывод: 26>22 следовательно условие выполянается, а второе условие не выполняется из-за равенства.Значит тренд существует."
   ]
  },
  {
   "cell_type": "code",
   "execution_count": null,
   "metadata": {},
   "outputs": [],
   "source": []
  }
 ],
 "metadata": {
  "kernelspec": {
   "display_name": "Python 3",
   "language": "python",
   "name": "python3"
  },
  "language_info": {
   "codemirror_mode": {
    "name": "ipython",
    "version": 3
   },
   "file_extension": ".py",
   "mimetype": "text/x-python",
   "name": "python",
   "nbconvert_exporter": "python",
   "pygments_lexer": "ipython3",
   "version": "3.7.3"
  }
 },
 "nbformat": 4,
 "nbformat_minor": 4
}
