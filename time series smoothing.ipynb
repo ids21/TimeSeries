{
 "cells": [
  {
   "cell_type": "markdown",
   "metadata": {},
   "source": [
    "# Сглаживание временного ряда"
   ]
  },
  {
   "cell_type": "markdown",
   "metadata": {},
   "source": [
    "Имеются данные, характеризующие уровень безработицы в регионе, %"
   ]
  },
  {
   "cell_type": "code",
   "execution_count": 2,
   "metadata": {},
   "outputs": [
    {
     "data": {
      "text/html": [
       "<div>\n",
       "<style scoped>\n",
       "    .dataframe tbody tr th:only-of-type {\n",
       "        vertical-align: middle;\n",
       "    }\n",
       "\n",
       "    .dataframe tbody tr th {\n",
       "        vertical-align: top;\n",
       "    }\n",
       "\n",
       "    .dataframe thead th {\n",
       "        text-align: right;\n",
       "    }\n",
       "</style>\n",
       "<table border=\"1\" class=\"dataframe\">\n",
       "  <thead>\n",
       "    <tr style=\"text-align: right;\">\n",
       "      <th></th>\n",
       "      <th>month</th>\n",
       "      <th>num</th>\n",
       "    </tr>\n",
       "  </thead>\n",
       "  <tbody>\n",
       "    <tr>\n",
       "      <td>0</td>\n",
       "      <td>Январь</td>\n",
       "      <td>2.99</td>\n",
       "    </tr>\n",
       "    <tr>\n",
       "      <td>1</td>\n",
       "      <td>Февраль</td>\n",
       "      <td>2.66</td>\n",
       "    </tr>\n",
       "    <tr>\n",
       "      <td>2</td>\n",
       "      <td>Март</td>\n",
       "      <td>2.63</td>\n",
       "    </tr>\n",
       "    <tr>\n",
       "      <td>3</td>\n",
       "      <td>Апрель</td>\n",
       "      <td>2.56</td>\n",
       "    </tr>\n",
       "    <tr>\n",
       "      <td>4</td>\n",
       "      <td>Май</td>\n",
       "      <td>2.40</td>\n",
       "    </tr>\n",
       "    <tr>\n",
       "      <td>5</td>\n",
       "      <td>Июнь</td>\n",
       "      <td>2.22</td>\n",
       "    </tr>\n",
       "    <tr>\n",
       "      <td>6</td>\n",
       "      <td>Июль</td>\n",
       "      <td>1.97</td>\n",
       "    </tr>\n",
       "    <tr>\n",
       "      <td>7</td>\n",
       "      <td>Август</td>\n",
       "      <td>1.72</td>\n",
       "    </tr>\n",
       "    <tr>\n",
       "      <td>8</td>\n",
       "      <td>Сентябрь</td>\n",
       "      <td>1.56</td>\n",
       "    </tr>\n",
       "    <tr>\n",
       "      <td>9</td>\n",
       "      <td>Октябрь</td>\n",
       "      <td>1.42</td>\n",
       "    </tr>\n",
       "  </tbody>\n",
       "</table>\n",
       "</div>"
      ],
      "text/plain": [
       "      month   num\n",
       "0    Январь  2.99\n",
       "1   Февраль  2.66\n",
       "2      Март  2.63\n",
       "3    Апрель  2.56\n",
       "4       Май  2.40\n",
       "5      Июнь  2.22\n",
       "6      Июль  1.97\n",
       "7    Август  1.72\n",
       "8  Сентябрь  1.56\n",
       "9   Октябрь  1.42"
      ]
     },
     "execution_count": 2,
     "metadata": {},
     "output_type": "execute_result"
    }
   ],
   "source": [
    "import pandas as pd\n",
    "num = [2.99,2.66,2.63,2.56,2.40,2.22,1.97,1.72,1.56,1.42]\n",
    "month = ['Январь','Февраль','Март','Апрель','Май','Июнь','Июль','Август','Сентябрь','Октябрь']\n",
    "data = pd.DataFrame({'month':month,'num':num})\n",
    "data"
   ]
  },
  {
   "cell_type": "markdown",
   "metadata": {},
   "source": [
    "Решение методом экспоненциального сглаживания"
   ]
  },
  {
   "cell_type": "code",
   "execution_count": 4,
   "metadata": {},
   "outputs": [
    {
     "name": "stdout",
     "output_type": "stream",
     "text": [
      "По этой же формуле вычисляем прогнозное значение: 1.9775786142659437 и 2.08203121591216\n",
      "Рассчитываем среднюю относительную ошибку: 21.24% и 26.76%\n"
     ]
    }
   ],
   "source": [
    "import numpy as np\n",
    "#Определяем значение параметра сглаживания\n",
    "alpha = 2/(10+1)\n",
    "#Определяем начальное значение Uo двумя способами:\n",
    "#І способ (средняя арифметическая) Uo:\n",
    "Uo1 = data.num.sum()/data.num.count()\n",
    "#II способ (принимаем первое значение базы прогноза)\n",
    "Uo2 = 2.99\n",
    "#Рассчитываем экспоненциально взвешенную среднюю для каждого периода\n",
    "Un1=np.zeros(len(num))\n",
    "Un1[0] = Uo1\n",
    "for i in range(1,len(num)):\n",
    "    Un1[i]=alpha*num[i-1] + (1-alpha)*Un1[i-1]\n",
    "#2 способ\n",
    "Un2=np.zeros(len(num))\n",
    "Un2[0] = Uo2\n",
    "for i in range(1,len(num)):\n",
    "    Un2[i]=alpha*num[i-1] + (1-alpha)*Un2[i-1]\n",
    "data['observation_value1'] = Un1\n",
    "data['observation_value2'] = Un2\n",
    "#вычисляем для ноября\n",
    "nov1 = alpha*num[-1]+(1-alpha)*Un1[-1]\n",
    "nov2 = alpha*num[-1]+(1-alpha)*Un2[-1]\n",
    "print(f'По этой же формуле вычисляем прогнозное значение: {nov1} и {nov2}')\n",
    "\n",
    "mas_error1 = [abs((num[k]-Un1[k])/num[k])*100 for k in range(len(num))]\n",
    "mas_error2 = [abs((num[k]-Un2[k])/num[k])*100 for k in range(len(num))]\n",
    "error1 =round(sum(mas_error1)/(len(Un1)),2)\n",
    "error2 =round(sum(mas_error2)/(len(Un2)),2)\n",
    "print(f'Рассчитываем среднюю относительную ошибку: {error1}% и {error2}%')"
   ]
  },
  {
   "cell_type": "markdown",
   "metadata": {},
   "source": [
    "В каждом случае точность прогноза является удовлетворительной поскольку средняя относительная ошибка попадает в пределы 20-50%.\n"
   ]
  },
  {
   "cell_type": "markdown",
   "metadata": {},
   "source": [
    "### Метод Скользящей средней "
   ]
  },
  {
   "cell_type": "code",
   "execution_count": 33,
   "metadata": {},
   "outputs": [
    {
     "name": "stdout",
     "output_type": "stream",
     "text": [
      "smoothing even=2.688\n",
      "smoothing even=2.573\n",
      "smoothing even=2.462\n",
      "smoothing even=2.295\n",
      "smoothing even=2.083\n",
      "smoothing even=1.86\n",
      "smoothing even=1.658\n"
     ]
    },
    {
     "data": {
      "text/plain": [
       "<matplotlib.legend.Legend at 0x1d3a1e2a7f0>"
      ]
     },
     "execution_count": 33,
     "metadata": {},
     "output_type": "execute_result"
    },
    {
     "data": {
      "image/png": "[encoded data removed]",
      "text/plain": [
       "<Figure size 432x288 with 1 Axes>"
      ]
     },
     "metadata": {
      "needs_background": "light"
     },
     "output_type": "display_data"
    }
   ],
   "source": [
    "import matplotlib.pyplot as plt\n",
    "%matplotlib inline\n",
    "fig, ax = plt.subplots()\n",
    "#Для временного ряда y1,y2,...,yn определяется интервал сглаживания m (m < n).\n",
    "m = 4\n",
    "ax.plot(num,label='start')\n",
    "before = [num[i] for i in range(m)]\n",
    "after = [num[i] for i in range(m, len(num))]\n",
    "res = list()\n",
    "if (m%2):\n",
    "    for t in range(len(after)+1):\n",
    "        length = len(before)\n",
    "        res.append(np.mean([before[i] for i in range(length-m,length)]))\n",
    "        if t!=(len(after)):\n",
    "            before.append(after[t])\n",
    "        print('smoothing odd={}'.format(np.round(res[t],3)))\n",
    "else:\n",
    "    for t in range(len(after)+1):\n",
    "        length = len(before)\n",
    "        res.append(((0.5*before[length-m]) + sum([before[i] for i in range(length-m+1,length-1)])+(0.5*before[length-1]))/(m-1))\n",
    "        if t!=(len(after)):\n",
    "            before.append(after[t])\n",
    "        print('smoothing even={}'.format(np.round(res[t],3)))\n",
    "    \n",
    "ax.plot(range(1,len(res)+1),res,label='mean smoothing')\n",
    "ax.legend()"
   ]
  }
 ],
 "metadata": {
  "kernelspec": {
   "display_name": "Python 3",
   "language": "python",
   "name": "python3"
  },
  "language_info": {
   "codemirror_mode": {
    "name": "ipython",
    "version": 3
   },
   "file_extension": ".py",
   "mimetype": "text/x-python",
   "name": "python",
   "nbconvert_exporter": "python",
   "pygments_lexer": "ipython3",
   "version": "3.6.12"
  }
 },
 "nbformat": 4,
 "nbformat_minor": 4
}
