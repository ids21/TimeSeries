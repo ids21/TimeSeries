{
 "cells": [
  {
   "cell_type": "code",
   "execution_count": 1,
   "metadata": {},
   "outputs": [],
   "source": [
    "import numpy as np\n",
    "import matplotlib.pyplot as plt"
   ]
  },
  {
   "cell_type": "code",
   "execution_count": 2,
   "metadata": {},
   "outputs": [],
   "source": [
    "mass=np.array([6,4.4,5,9,7.2,4.8,6,10,8,5.6,6.4,11,9,6.6,7,10.8],float)"
   ]
  },
  {
   "cell_type": "code",
   "execution_count": 3,
   "metadata": {},
   "outputs": [
    {
     "data": {
      "text/plain": [
       "array([24.4, 25.6, 26. , 27. , 28. , 28.8, 29.6, 30. , 31. , 32. , 33. ,\n",
       "       33.6, 33.4])"
      ]
     },
     "execution_count": 3,
     "metadata": {},
     "output_type": "execute_result"
    }
   ],
   "source": [
    "summ = np.array([],float)\n",
    "p = 4\n",
    "for i in range(0,len(mass)-p+1):\n",
    "    temp = 0\n",
    "    for j in range(i,i+p):\n",
    "        temp = temp + mass[j]\n",
    "    summ = np.append(summ,temp)\n",
    "summ"
   ]
  },
  {
   "cell_type": "code",
   "execution_count": 4,
   "metadata": {},
   "outputs": [
    {
     "data": {
      "text/plain": [
       "array([6.1 , 6.4 , 6.5 , 6.75, 7.  , 7.2 , 7.4 , 7.5 , 7.75, 8.  , 8.25,\n",
       "       8.4 , 8.35])"
      ]
     },
     "execution_count": 4,
     "metadata": {},
     "output_type": "execute_result"
    }
   ],
   "source": [
    "sred = np.array([],float)\n",
    "p = 4\n",
    "for i in range(0,len(mass)-p+1):\n",
    "    temp = 0\n",
    "    for j in range(i,i+p):\n",
    "        temp = temp + mass[j]\n",
    "    sred = np.append(sred,temp/p)\n",
    "sred"
   ]
  },
  {
   "cell_type": "code",
   "execution_count": 5,
   "metadata": {},
   "outputs": [
    {
     "data": {
      "text/plain": [
       "array([6.25 , 6.45 , 6.625, 6.875, 7.1  , 7.3  , 7.45 , 7.625, 7.875,\n",
       "       8.125, 8.325, 8.375])"
      ]
     },
     "execution_count": 5,
     "metadata": {},
     "output_type": "execute_result"
    }
   ],
   "source": [
    "center_sred = np.array([],float)\n",
    "p = 2\n",
    "for i in range(0,len(sred)-p+1):\n",
    "    temp = 0\n",
    "    for j in range(i,i+p):\n",
    "        temp = temp + sred[j]\n",
    "    center_sred = np.append(center_sred,temp/p)\n",
    "center_sred"
   ]
  },
  {
   "cell_type": "code",
   "execution_count": 6,
   "metadata": {},
   "outputs": [
    {
     "data": {
      "text/plain": [
       "array([-1.25 ,  2.55 ,  0.575, -2.075, -1.1  ,  2.7  ,  0.55 , -2.025,\n",
       "       -1.475,  2.875,  0.675, -1.775])"
      ]
     },
     "execution_count": 6,
     "metadata": {},
     "output_type": "execute_result"
    }
   ],
   "source": [
    "season_comp = np.array([],float)\n",
    "for i in range(2,len(mass)-2):\n",
    "    temp = mass[i] - center_sred[i-2]\n",
    "    season_comp = np.append(season_comp,temp)\n",
    "season_comp"
   ]
  },
  {
   "cell_type": "code",
   "execution_count": 7,
   "metadata": {},
   "outputs": [],
   "source": [
    "first_q = np.array([],float)\n",
    "second_q = np.array([],float)\n",
    "third_q = np.array([],float)\n",
    "fourth_q = np.array([],float)\n",
    "for i in range (0,len(season_comp)):\n",
    "    if (i%4==4) | (i%4==0):\n",
    "        third_q = np.append(third_q,season_comp[i])\n",
    "    elif (i%4==1):\n",
    "        fourth_q = np.append(fourth_q,season_comp[i])\n",
    "    elif (i%4==2):\n",
    "        first_q = np.append(first_q,season_comp[i])\n",
    "    else:\n",
    "        second_q = np.append(second_q,season_comp[i])"
   ]
  },
  {
   "cell_type": "code",
   "execution_count": 10,
   "metadata": {},
   "outputs": [],
   "source": [
    "cor_koef = (first_q.mean() + second_q.mean() + third_q.mean() + fourth_q.mean()) / 4"
   ]
  },
  {
   "cell_type": "code",
   "execution_count": 11,
   "metadata": {},
   "outputs": [
    {
     "data": {
      "text/plain": [
       "0.018750000000000155"
      ]
     },
     "execution_count": 11,
     "metadata": {},
     "output_type": "execute_result"
    }
   ],
   "source": [
    "cor_koef"
   ]
  },
  {
   "cell_type": "code",
   "execution_count": 12,
   "metadata": {},
   "outputs": [],
   "source": [
    "first_q_sez = first_q.mean() - cor_koef\n",
    "second_q_sez = second_q.mean() - cor_koef\n",
    "third_q_sez = third_q.mean() - cor_koef\n",
    "fourth_q_sez = fourth_q.mean() - cor_koef"
   ]
  },
  {
   "cell_type": "code",
   "execution_count": 13,
   "metadata": {},
   "outputs": [
    {
     "data": {
      "text/plain": [
       "0.0"
      ]
     },
     "execution_count": 13,
     "metadata": {},
     "output_type": "execute_result"
    }
   ],
   "source": [
    "first_q_sez + second_q_sez + third_q_sez + fourth_q_sez"
   ]
  },
  {
   "cell_type": "code",
   "execution_count": 14,
   "metadata": {},
   "outputs": [],
   "source": [
    "mass_sez = np.array([],float)\n",
    "for i in range(0,len(mass)):\n",
    "    if (i%4==4) | (i%4==0):\n",
    "        mass_sez = np.append(mass_sez,first_q_sez)\n",
    "    elif (i%4==1):\n",
    "        mass_sez = np.append(mass_sez,second_q_sez)\n",
    "    elif (i%4==2):\n",
    "        mass_sez = np.append(mass_sez,third_q_sez)\n",
    "    else:\n",
    "        mass_sez = np.append(mass_sez,fourth_q_sez)"
   ]
  },
  {
   "cell_type": "code",
   "execution_count": 15,
   "metadata": {},
   "outputs": [
    {
     "data": {
      "text/plain": [
       "array([ 0.58125   , -1.97708333, -1.29375   ,  2.68958333,  0.58125   ,\n",
       "       -1.97708333, -1.29375   ,  2.68958333,  0.58125   , -1.97708333,\n",
       "       -1.29375   ,  2.68958333,  0.58125   , -1.97708333, -1.29375   ,\n",
       "        2.68958333])"
      ]
     },
     "execution_count": 15,
     "metadata": {},
     "output_type": "execute_result"
    }
   ],
   "source": [
    "mass_sez"
   ]
  },
  {
   "cell_type": "code",
   "execution_count": 16,
   "metadata": {},
   "outputs": [
    {
     "data": {
      "text/plain": [
       "array([5.41875   , 6.37708333, 6.29375   , 6.31041667, 6.61875   ,\n",
       "       6.77708333, 7.29375   , 7.31041667, 7.41875   , 7.57708333,\n",
       "       7.69375   , 8.31041667, 8.41875   , 8.57708333, 8.29375   ,\n",
       "       8.11041667])"
      ]
     },
     "execution_count": 16,
     "metadata": {},
     "output_type": "execute_result"
    }
   ],
   "source": [
    "mass_TE = np.zeros(16)\n",
    "for i in range(0,len(mass_TE)):\n",
    "    mass_TE[i] = mass[i] - mass_sez[i]\n",
    "mass_TE"
   ]
  },
  {
   "cell_type": "code",
   "execution_count": 17,
   "metadata": {},
   "outputs": [],
   "source": [
    "time = np.array(range(1,17),int)"
   ]
  },
  {
   "cell_type": "code",
   "execution_count": 18,
   "metadata": {},
   "outputs": [
    {
     "data": {
      "text/plain": [
       "array([ 1,  2,  3,  4,  5,  6,  7,  8,  9, 10, 11, 12, 13, 14, 15, 16])"
      ]
     },
     "execution_count": 18,
     "metadata": {},
     "output_type": "execute_result"
    }
   ],
   "source": [
    "time"
   ]
  },
  {
   "cell_type": "code",
   "execution_count": 19,
   "metadata": {},
   "outputs": [
    {
     "name": "stdout",
     "output_type": "stream",
     "text": [
      "5.715416666666668 0.18642156862745096\n"
     ]
    }
   ],
   "source": [
    "sum1=0\n",
    "sum2=0\n",
    "\n",
    "for i in time:\n",
    "    sum1=sum1+(i*mass_TE[i-1])\n",
    "    sum2=sum2+(i*i)\n",
    "sum1=sum1-mass_TE.size*time.mean()*mass_TE.mean()\n",
    "sum2=sum2-mass_TE.size*time.mean()*time.mean()\n",
    "a1=sum1/sum2\n",
    "a0=mass_TE.mean()-a1*time.mean()\n",
    "print(a0,a1)"
   ]
  },
  {
   "cell_type": "markdown",
   "metadata": {},
   "source": [
    "T = 5.71 + 0.18 * t"
   ]
  },
  {
   "cell_type": "code",
   "execution_count": 20,
   "metadata": {},
   "outputs": [
    {
     "data": {
      "text/plain": [
       "array([5.90183824, 6.0882598 , 6.27468137, 6.46110294, 6.64752451,\n",
       "       6.83394608, 7.02036765, 7.20678922, 7.39321078, 7.57963235,\n",
       "       7.76605392, 7.95247549, 8.13889706, 8.32531863, 8.5117402 ,\n",
       "       8.69816176])"
      ]
     },
     "execution_count": 20,
     "metadata": {},
     "output_type": "execute_result"
    }
   ],
   "source": [
    "mass_T = np.zeros(16)\n",
    "for i in range(0,len(mass_T)):\n",
    "    mass_T[i] = a0 + a1*time[i]\n",
    "mass_T"
   ]
  },
  {
   "cell_type": "code",
   "execution_count": 21,
   "metadata": {},
   "outputs": [
    {
     "data": {
      "text/plain": [
       "array([ 6.48308824,  4.11117647,  4.98093137,  9.15068627,  7.22877451,\n",
       "        4.85686275,  5.72661765,  9.89637255,  7.97446078,  5.60254902,\n",
       "        6.47230392, 10.64205882,  8.72014706,  6.34823529,  7.2179902 ,\n",
       "       11.3877451 ])"
      ]
     },
     "execution_count": 21,
     "metadata": {},
     "output_type": "execute_result"
    }
   ],
   "source": [
    "mass_TS = np.zeros(16)\n",
    "for i in range(0,len(mass_TS)):\n",
    "    mass_TS[i] = mass_T[i] + mass_sez[i]\n",
    "mass_TS"
   ]
  },
  {
   "cell_type": "code",
   "execution_count": 22,
   "metadata": {},
   "outputs": [
    {
     "data": {
      "text/plain": [
       "[<matplotlib.lines.Line2D at 0x1e5259a0860>]"
      ]
     },
     "execution_count": 22,
     "metadata": {},
     "output_type": "execute_result"
    },
    {
     "data": {
      "image/png": "[encoded data removed]",
      "text/plain": [
       "<Figure size 432x288 with 1 Axes>"
      ]
     },
     "metadata": {
      "needs_background": "light"
     },
     "output_type": "display_data"
    }
   ],
   "source": [
    "plt.plot(time,mass) #Исходные данные (Синия линия)\n",
    "plt.plot(time,mass_T) #Линейный тренд (желтая линия)\n",
    "plt.plot(time,mass_TS) #TS (Зеленая линия)"
   ]
  },
  {
   "cell_type": "code",
   "execution_count": 23,
   "metadata": {},
   "outputs": [
    {
     "data": {
      "text/plain": [
       "array([-0.48308824,  0.28882353,  0.01906863, -0.15068627, -0.02877451,\n",
       "       -0.05686275,  0.27338235,  0.10362745,  0.02553922, -0.00254902,\n",
       "       -0.07230392,  0.35794118,  0.27985294,  0.25176471, -0.2179902 ,\n",
       "       -0.5877451 ])"
      ]
     },
     "execution_count": 23,
     "metadata": {},
     "output_type": "execute_result"
    }
   ],
   "source": [
    "mass_E = np.zeros(16)\n",
    "for i in range(0,len(mass_E)):\n",
    "    mass_E[i] = mass[i] - mass_TS[i]\n",
    "mass_E"
   ]
  },
  {
   "cell_type": "code",
   "execution_count": 24,
   "metadata": {},
   "outputs": [
    {
     "data": {
      "text/plain": [
       "98.36400953905598"
      ]
     },
     "execution_count": 24,
     "metadata": {},
     "output_type": "execute_result"
    }
   ],
   "source": [
    "100-mass_E.var()/mass.var()*100"
   ]
  },
  {
   "cell_type": "markdown",
   "metadata": {},
   "source": [
    "## Аддитивная модель объясняет 98.36% общей вариации уровней временного ряда"
   ]
  },
  {
   "cell_type": "code",
   "execution_count": 27,
   "metadata": {},
   "outputs": [
    {
     "data": {
      "text/plain": [
       "[<matplotlib.lines.Line2D at 0x1e523ad7c18>]"
      ]
     },
     "execution_count": 27,
     "metadata": {},
     "output_type": "execute_result"
    },
    {
     "data": {
      "image/png": "[encoded data removed]",
      "text/plain": [
       "<Figure size 432x288 with 1 Axes>"
      ]
     },
     "metadata": {
      "needs_background": "light"
     },
     "output_type": "display_data"
    }
   ],
   "source": [
    "mass2=np.array([72,100,90,64,70,92,80,58,62,80,68,48,52,60,50,30],float)\n",
    "time = np.array(range(1,17),int)\n",
    "plt.plot(time,mass2)"
   ]
  },
  {
   "cell_type": "code",
   "execution_count": 28,
   "metadata": {},
   "outputs": [
    {
     "data": {
      "text/plain": [
       "array([326., 324., 316., 306., 300., 292., 280., 268., 258., 248., 228.,\n",
       "       210., 192.])"
      ]
     },
     "execution_count": 28,
     "metadata": {},
     "output_type": "execute_result"
    }
   ],
   "source": [
    "summ2 = np.array([],float)\n",
    "p = 4\n",
    "for i in range(0,len(mass2)-p+1):\n",
    "    temp = 0\n",
    "    for j in range(i,i+p):\n",
    "        temp = temp + mass2[j]\n",
    "    summ2 = np.append(summ2,temp)\n",
    "summ2"
   ]
  },
  {
   "cell_type": "code",
   "execution_count": 29,
   "metadata": {},
   "outputs": [
    {
     "data": {
      "text/plain": [
       "array([81.5, 81. , 79. , 76.5, 75. , 73. , 70. , 67. , 64.5, 62. , 57. ,\n",
       "       52.5, 48. ])"
      ]
     },
     "execution_count": 29,
     "metadata": {},
     "output_type": "execute_result"
    }
   ],
   "source": [
    "sred2 = np.array([],float)\n",
    "p = 4\n",
    "for i in range(0,len(mass2)-p+1):\n",
    "    temp = 0\n",
    "    for j in range(i,i+p):\n",
    "        temp = temp + mass2[j]\n",
    "    sred2 = np.append(sred2,temp/p)\n",
    "sred2"
   ]
  },
  {
   "cell_type": "code",
   "execution_count": 30,
   "metadata": {},
   "outputs": [
    {
     "data": {
      "text/plain": [
       "array([81.25, 80.  , 77.75, 75.75, 74.  , 71.5 , 68.5 , 65.75, 63.25,\n",
       "       59.5 , 54.75, 50.25])"
      ]
     },
     "execution_count": 30,
     "metadata": {},
     "output_type": "execute_result"
    }
   ],
   "source": [
    "center_sred2 = np.array([],float)\n",
    "p = 2\n",
    "for i in range(0,len(sred2)-p+1):\n",
    "    temp = 0\n",
    "    for j in range(i,i+p):\n",
    "        temp = temp + sred2[j]\n",
    "    center_sred2 = np.append(center_sred2,temp/p)\n",
    "center_sred2"
   ]
  },
  {
   "cell_type": "code",
   "execution_count": 33,
   "metadata": {},
   "outputs": [
    {
     "data": {
      "text/plain": [
       "array([1.10769231, 0.8       , 0.90032154, 1.21452145, 1.08108108,\n",
       "       0.81118881, 0.90510949, 1.21673004, 1.07509881, 0.80672269,\n",
       "       0.94977169, 1.19402985])"
      ]
     },
     "execution_count": 33,
     "metadata": {},
     "output_type": "execute_result"
    }
   ],
   "source": [
    "season_comp2 = np.array([],float)\n",
    "for i in range(2,len(mass2)-2):\n",
    "    temp = mass2[i] / center_sred2[i-2]\n",
    "    season_comp2 = np.append(season_comp2,temp)\n",
    "season_comp2"
   ]
  },
  {
   "cell_type": "code",
   "execution_count": 34,
   "metadata": {},
   "outputs": [],
   "source": [
    "first_q2 = np.array([],float)\n",
    "second_q2 = np.array([],float)\n",
    "third_q2 = np.array([],float)\n",
    "fourth_q2 = np.array([],float)\n",
    "for i in range (0,len(season_comp2)):\n",
    "    if (i%4==4) | (i%4==0):\n",
    "        third_q2 = np.append(third_q2,season_comp2[i])\n",
    "    elif (i%4==1):\n",
    "        fourth_q2 = np.append(fourth_q2,season_comp2[i])\n",
    "    elif (i%4==2):\n",
    "        first_q2 = np.append(first_q2,season_comp2[i])\n",
    "    else:\n",
    "        second_q2 = np.append(second_q2,season_comp2[i])"
   ]
  },
  {
   "cell_type": "code",
   "execution_count": 40,
   "metadata": {},
   "outputs": [
    {
     "data": {
      "text/plain": [
       "0.9948378060124525"
      ]
     },
     "execution_count": 40,
     "metadata": {},
     "output_type": "execute_result"
    }
   ],
   "source": [
    "cor_koef2 = 4 / (first_q2.mean() + second_q2.mean() + third_q2.mean() + fourth_q2.mean())\n",
    "cor_koef2"
   ]
  },
  {
   "cell_type": "code",
   "execution_count": 42,
   "metadata": {},
   "outputs": [
    {
     "data": {
      "text/plain": [
       "4.0"
      ]
     },
     "execution_count": 42,
     "metadata": {},
     "output_type": "execute_result"
    }
   ],
   "source": [
    "first_q_sez2 = first_q2.mean() * cor_koef2\n",
    "second_q_sez2 = second_q2.mean() * cor_koef2\n",
    "third_q_sez2 = third_q2.mean() * cor_koef2\n",
    "fourth_q_sez2 = fourth_q2.mean() * cor_koef2\n",
    "first_q_sez2 + second_q_sez2 + third_q_sez2 + fourth_q_sez2"
   ]
  },
  {
   "cell_type": "code",
   "execution_count": 44,
   "metadata": {},
   "outputs": [
    {
     "data": {
      "text/plain": [
       "array([0.91365994, 1.20218898, 1.08234115, 0.80180992, 0.91365994,\n",
       "       1.20218898, 1.08234115, 0.80180992, 0.91365994, 1.20218898,\n",
       "       1.08234115, 0.80180992, 0.91365994, 1.20218898, 1.08234115,\n",
       "       0.80180992])"
      ]
     },
     "execution_count": 44,
     "metadata": {},
     "output_type": "execute_result"
    }
   ],
   "source": [
    "mass_sez2 = np.array([],float)\n",
    "for i in range(0,len(mass2)):\n",
    "    if (i%4==4) | (i%4==0):\n",
    "        mass_sez2 = np.append(mass_sez2,first_q_sez2)\n",
    "    elif (i%4==1):\n",
    "        mass_sez2 = np.append(mass_sez2,second_q_sez2)\n",
    "    elif (i%4==2):\n",
    "        mass_sez2 = np.append(mass_sez2,third_q_sez2)\n",
    "    else:\n",
    "        mass_sez2 = np.append(mass_sez2,fourth_q_sez2)\n",
    "mass_sez2"
   ]
  },
  {
   "cell_type": "code",
   "execution_count": 45,
   "metadata": {},
   "outputs": [
    {
     "data": {
      "text/plain": [
       "array([78.8039363 , 83.18159773, 83.15307949, 79.81941615, 76.61493807,\n",
       "       76.52706991, 73.91384843, 72.33634589, 67.85894515, 66.54527818,\n",
       "       62.82677117, 59.86456211, 56.91395399, 49.90895864, 46.19615527,\n",
       "       37.41535132])"
      ]
     },
     "execution_count": 45,
     "metadata": {},
     "output_type": "execute_result"
    }
   ],
   "source": [
    "mass_TE2 = np.zeros(16)\n",
    "for i in range(0,len(mass_TE2)):\n",
    "    mass_TE2[i] = mass2[i] / mass_sez2[i]\n",
    "mass_TE2"
   ]
  },
  {
   "cell_type": "code",
   "execution_count": 46,
   "metadata": {},
   "outputs": [
    {
     "name": "stdout",
     "output_type": "stream",
     "text": [
      "90.56515364125715 -2.7732518415839342\n"
     ]
    }
   ],
   "source": [
    "sum12=0\n",
    "sum22=0\n",
    "\n",
    "for i in time:\n",
    "    sum12=sum12+(i*mass_TE2[i-1])\n",
    "    sum22=sum22+(i*i)\n",
    "sum12=sum12-mass_TE2.size*time.mean()*mass_TE2.mean()\n",
    "sum22=sum22-mass_TE2.size*time.mean()*time.mean()\n",
    "a12=sum12/sum22\n",
    "a02=mass_TE2.mean()-a12*time.mean()\n",
    "print(a02,a12)"
   ]
  },
  {
   "cell_type": "markdown",
   "metadata": {},
   "source": [
    "T = 90.56 - 2.77 * t"
   ]
  },
  {
   "cell_type": "code",
   "execution_count": 47,
   "metadata": {},
   "outputs": [
    {
     "data": {
      "text/plain": [
       "array([87.7919018 , 85.01864996, 82.24539812, 79.47214627, 76.69889443,\n",
       "       73.92564259, 71.15239075, 68.37913891, 65.60588707, 62.83263523,\n",
       "       60.05938338, 57.28613154, 54.5128797 , 51.73962786, 48.96637602,\n",
       "       46.19312418])"
      ]
     },
     "execution_count": 47,
     "metadata": {},
     "output_type": "execute_result"
    }
   ],
   "source": [
    "mass_T2 = np.zeros(16)\n",
    "for i in range(0,len(mass_T2)):\n",
    "    mass_T2[i] = a02 + a12*time[i]\n",
    "mass_T2"
   ]
  },
  {
   "cell_type": "code",
   "execution_count": 48,
   "metadata": {},
   "outputs": [
    {
     "data": {
      "text/plain": [
       "array([ 80.21194405, 102.20848394,  89.0175791 ,  63.72155557,\n",
       "        70.07670757,  88.87259275,  77.0111607 ,  54.82707217,\n",
       "        59.94147108,  75.53670156,  65.00474231,  45.93258878,\n",
       "        49.8062346 ,  62.20081036,  52.99832392,  37.03810539])"
      ]
     },
     "execution_count": 48,
     "metadata": {},
     "output_type": "execute_result"
    }
   ],
   "source": [
    "mass_TS2 = np.zeros(16)\n",
    "for i in range(0,len(mass_TS2)):\n",
    "    mass_TS2[i] = mass_T2[i] * mass_sez2[i]\n",
    "mass_TS2"
   ]
  },
  {
   "cell_type": "code",
   "execution_count": 49,
   "metadata": {},
   "outputs": [
    {
     "data": {
      "text/plain": [
       "[<matplotlib.lines.Line2D at 0x1e5269d8518>]"
      ]
     },
     "execution_count": 49,
     "metadata": {},
     "output_type": "execute_result"
    },
    {
     "data": {
      "image/png": "[encoded data removed]",
      "text/plain": [
       "<Figure size 432x288 with 1 Axes>"
      ]
     },
     "metadata": {
      "needs_background": "light"
     },
     "output_type": "display_data"
    }
   ],
   "source": [
    "plt.plot(time,mass2) #Исходные данные (Синия линия)\n",
    "plt.plot(time,mass_T2) #Линейный тренд (желтая линия)\n",
    "plt.plot(time,mass_TS2) #TS (Зеленая линия)"
   ]
  },
  {
   "cell_type": "code",
   "execution_count": 50,
   "metadata": {},
   "outputs": [
    {
     "data": {
      "text/plain": [
       "array([0.89762193, 0.97839236, 1.01103626, 1.00436971, 0.99890538,\n",
       "       1.03518978, 1.03881047, 1.05787155, 1.03434232, 1.05908781,\n",
       "       1.04607753, 1.04500968, 1.044046  , 0.96461766, 0.94342606,\n",
       "       0.80997664])"
      ]
     },
     "execution_count": 50,
     "metadata": {},
     "output_type": "execute_result"
    }
   ],
   "source": [
    "mass_E2 = np.zeros(16)\n",
    "for i in range(0,len(mass_E2)):\n",
    "    mass_E2[i] = mass2[i] / mass_TS2[i]\n",
    "mass_E2"
   ]
  },
  {
   "cell_type": "code",
   "execution_count": 52,
   "metadata": {},
   "outputs": [
    {
     "data": {
      "text/plain": [
       "array([-8.21194405, -2.20848394,  0.9824209 ,  0.27844443, -0.07670757,\n",
       "        3.12740725,  2.9888393 ,  3.17292783,  2.05852892,  4.46329844,\n",
       "        2.99525769,  2.06741122,  2.1937654 , -2.20081036, -2.99832392,\n",
       "       -7.03810539])"
      ]
     },
     "execution_count": 52,
     "metadata": {},
     "output_type": "execute_result"
    }
   ],
   "source": [
    "mass_E2_abs = np.zeros(16)\n",
    "for i in range(0,len(mass_E2_abs)):\n",
    "    mass_E2_abs[i] = mass2[i] - mass_TS2[i]\n",
    "mass_E2_abs"
   ]
  },
  {
   "cell_type": "code",
   "execution_count": 53,
   "metadata": {},
   "outputs": [
    {
     "data": {
      "text/plain": [
       "95.86761116295575"
      ]
     },
     "execution_count": 53,
     "metadata": {},
     "output_type": "execute_result"
    }
   ],
   "source": [
    "100-mass_E2_abs.var()/mass2.var()*100"
   ]
  },
  {
   "cell_type": "markdown",
   "metadata": {},
   "source": [
    "## Мультипликативная модель объясняет 95.86% общей вариации уровней временного ряда"
   ]
  },
  {
   "cell_type": "markdown",
   "metadata": {},
   "source": [
    "# Прогнозирование по аддитивной модели"
   ]
  },
  {
   "cell_type": "code",
   "execution_count": 55,
   "metadata": {},
   "outputs": [
    {
     "name": "stdout",
     "output_type": "stream",
     "text": [
      "8.884583333333335 9.071004901960785\n"
     ]
    }
   ],
   "source": [
    "T17 = a0 + a1*17\n",
    "T18 = a0 + a1*18\n",
    "print(T17,T18)"
   ]
  },
  {
   "cell_type": "code",
   "execution_count": 61,
   "metadata": {},
   "outputs": [
    {
     "name": "stdout",
     "output_type": "stream",
     "text": [
      "0.58125 -1.9770833333333337\n"
     ]
    }
   ],
   "source": [
    "S1 = mass_sez[0]; S2 = mass_sez[1]\n",
    "print(S1,S2)"
   ]
  },
  {
   "cell_type": "code",
   "execution_count": 62,
   "metadata": {},
   "outputs": [
    {
     "name": "stdout",
     "output_type": "stream",
     "text": [
      "9.465833333333336 7.093921568627452\n"
     ]
    }
   ],
   "source": [
    "F17 = T17 + S1\n",
    "F18 = T18 + S2\n",
    "print (F17,F18)"
   ]
  },
  {
   "cell_type": "code",
   "execution_count": 63,
   "metadata": {},
   "outputs": [
    {
     "data": {
      "text/plain": [
       "16.559754901960787"
      ]
     },
     "execution_count": 63,
     "metadata": {},
     "output_type": "execute_result"
    }
   ],
   "source": [
    "F17 + F18"
   ]
  },
  {
   "cell_type": "markdown",
   "metadata": {},
   "source": [
    "### Прогноз потребления электроэнергии на первое полугодие ближайшего следующего года составит 16.56 млн кВт*ч"
   ]
  },
  {
   "cell_type": "markdown",
   "metadata": {},
   "source": [
    "# Прогнозирование по мультипликативной модели"
   ]
  },
  {
   "cell_type": "code",
   "execution_count": 64,
   "metadata": {},
   "outputs": [
    {
     "name": "stdout",
     "output_type": "stream",
     "text": [
      "43.41987233433027 40.64662049274634\n"
     ]
    }
   ],
   "source": [
    "T17_2 = a02 + a12*17\n",
    "T18_2 = a02 + a12*18\n",
    "print (T17_2,T18_2)"
   ]
  },
  {
   "cell_type": "code",
   "execution_count": 65,
   "metadata": {},
   "outputs": [
    {
     "name": "stdout",
     "output_type": "stream",
     "text": [
      "0.9136599436771368 1.2021889784576871\n"
     ]
    }
   ],
   "source": [
    "S1_2 = mass_sez2[0]; S2_2 = mass_sez2[1]\n",
    "print(S1_2,S2_2)"
   ]
  },
  {
   "cell_type": "code",
   "execution_count": 67,
   "metadata": {},
   "outputs": [
    {
     "name": "stdout",
     "output_type": "stream",
     "text": [
      "39.67099811145267 48.86491916793201\n"
     ]
    }
   ],
   "source": [
    "F17_2 = T17_2 * S1_2\n",
    "F18_2 = T18_2 * S2_2\n",
    "print (F17_2,F18_2)"
   ]
  },
  {
   "cell_type": "code",
   "execution_count": 68,
   "metadata": {},
   "outputs": [
    {
     "data": {
      "text/plain": [
       "88.53591727938468"
      ]
     },
     "execution_count": 68,
     "metadata": {},
     "output_type": "execute_result"
    }
   ],
   "source": [
    "F17_2 + F18_2"
   ]
  },
  {
   "cell_type": "markdown",
   "metadata": {},
   "source": [
    "### Прогноз ожидаемой прибыли компании на первое полугодие ближайшего следующего года составит 88,54 тыс. долл. США."
   ]
  },
  {
   "cell_type": "markdown",
   "metadata": {},
   "source": [
    "# Построение модели регрессии временного ряда с фиктивными переменными"
   ]
  },
  {
   "cell_type": "code",
   "execution_count": 69,
   "metadata": {},
   "outputs": [],
   "source": [
    "mass_3 = mass.copy()"
   ]
  },
  {
   "cell_type": "code",
   "execution_count": 70,
   "metadata": {},
   "outputs": [
    {
     "data": {
      "text/plain": [
       "array([ 6. ,  4.4,  5. ,  9. ,  7.2,  4.8,  6. , 10. ,  8. ,  5.6,  6.4,\n",
       "       11. ,  9. ,  6.6,  7. , 10.8])"
      ]
     },
     "execution_count": 70,
     "metadata": {},
     "output_type": "execute_result"
    }
   ],
   "source": [
    "mass_3"
   ]
  },
  {
   "cell_type": "code",
   "execution_count": 139,
   "metadata": {},
   "outputs": [],
   "source": [
    "x1 = np.zeros(16)\n",
    "x2 = np.zeros(16)\n",
    "x3 = np.zeros(16)"
   ]
  },
  {
   "cell_type": "code",
   "execution_count": 140,
   "metadata": {},
   "outputs": [],
   "source": [
    "for i in range(0,len(x1)):\n",
    "    if i%4 == 0:\n",
    "        x1[i] = 1\n",
    "    elif i%4 == 1:\n",
    "        x2[i] = 1\n",
    "    elif i%4 == 2:\n",
    "        x3[i] = 1"
   ]
  },
  {
   "cell_type": "code",
   "execution_count": 143,
   "metadata": {},
   "outputs": [],
   "source": [
    "A = np.column_stack((time,x1,x2,x3))"
   ]
  },
  {
   "cell_type": "code",
   "execution_count": 144,
   "metadata": {},
   "outputs": [
    {
     "data": {
      "text/plain": [
       "array([[ 1.,  1.,  0.,  0.],\n",
       "       [ 2.,  0.,  1.,  0.],\n",
       "       [ 3.,  0.,  0.,  1.],\n",
       "       [ 4.,  0.,  0.,  0.],\n",
       "       [ 5.,  1.,  0.,  0.],\n",
       "       [ 6.,  0.,  1.,  0.],\n",
       "       [ 7.,  0.,  0.,  1.],\n",
       "       [ 8.,  0.,  0.,  0.],\n",
       "       [ 9.,  1.,  0.,  0.],\n",
       "       [10.,  0.,  1.,  0.],\n",
       "       [11.,  0.,  0.,  1.],\n",
       "       [12.,  0.,  0.,  0.],\n",
       "       [13.,  1.,  0.,  0.],\n",
       "       [14.,  0.,  1.,  0.],\n",
       "       [15.,  0.,  0.,  1.],\n",
       "       [16.,  0.,  0.,  0.]])"
      ]
     },
     "execution_count": 144,
     "metadata": {},
     "output_type": "execute_result"
    }
   ],
   "source": [
    "A"
   ]
  },
  {
   "cell_type": "code",
   "execution_count": 145,
   "metadata": {},
   "outputs": [
    {
     "data": {
      "text/plain": [
       "LinearRegression(copy_X=True, fit_intercept=True, n_jobs=None, normalize=False)"
      ]
     },
     "execution_count": 145,
     "metadata": {},
     "output_type": "execute_result"
    }
   ],
   "source": [
    "from sklearn import linear_model\n",
    "reg = linear_model.LinearRegression()\n",
    "reg.fit(A, mass_3)"
   ]
  },
  {
   "cell_type": "code",
   "execution_count": 147,
   "metadata": {},
   "outputs": [
    {
     "data": {
      "text/plain": [
       "8.324999999999998"
      ]
     },
     "execution_count": 147,
     "metadata": {},
     "output_type": "execute_result"
    }
   ],
   "source": [
    "reg.intercept_"
   ]
  },
  {
   "cell_type": "code",
   "execution_count": 148,
   "metadata": {},
   "outputs": [
    {
     "data": {
      "text/plain": [
       "array([ 0.1875, -2.0875, -4.475 , -3.9125])"
      ]
     },
     "execution_count": 148,
     "metadata": {},
     "output_type": "execute_result"
    }
   ],
   "source": [
    "reg.coef_"
   ]
  },
  {
   "cell_type": "code",
   "execution_count": 153,
   "metadata": {},
   "outputs": [
    {
     "data": {
      "text/plain": [
       "0.984952324195471"
      ]
     },
     "execution_count": 153,
     "metadata": {},
     "output_type": "execute_result"
    }
   ],
   "source": [
    "R2 = reg.score(A,mass_3)\n",
    "R2 # коэффициент детерминации"
   ]
  },
  {
   "cell_type": "markdown",
   "metadata": {},
   "source": [
    "###  Уравнение регрессии имеет вид: y = 8.32 + 0.18 * t - 2.08 * x1 - 4.47 * x2 - 3.91 * x3"
   ]
  },
  {
   "cell_type": "code",
   "execution_count": 158,
   "metadata": {},
   "outputs": [
    {
     "data": {
      "text/plain": [
       "67.12"
      ]
     },
     "execution_count": 158,
     "metadata": {},
     "output_type": "execute_result"
    }
   ],
   "source": [
    "C_общ = mass_3.var() * mass_3.size\n",
    "C_общ # общая сумма квадратов"
   ]
  },
  {
   "cell_type": "code",
   "execution_count": 159,
   "metadata": {},
   "outputs": [
    {
     "data": {
      "text/plain": [
       "1.0099999999999891"
      ]
     },
     "execution_count": 159,
     "metadata": {},
     "output_type": "execute_result"
    }
   ],
   "source": [
    "C_ост = (1-R2) * C_общ\n",
    "C_ост # остаточная сумма квадратов"
   ]
  },
  {
   "cell_type": "markdown",
   "metadata": {},
   "source": [
    "##   1.01<1.10    Модель регрессии с фиктивными переменными описывает динамику временного ряда потребления электроэнергии лучше, чем аддитивная модель"
   ]
  }
 ],
 "metadata": {
  "kernelspec": {
   "display_name": "Python 3",
   "language": "python",
   "name": "python3"
  },
  "language_info": {
   "codemirror_mode": {
    "name": "ipython",
    "version": 3
   },
   "file_extension": ".py",
   "mimetype": "text/x-python",
   "name": "python",
   "nbconvert_exporter": "python",
   "pygments_lexer": "ipython3",
   "version": "3.6.12"
  }
 },
 "nbformat": 4,
 "nbformat_minor": 4
}
